{
 "cells": [
  {
   "cell_type": "markdown",
   "id": "03a55069-55f4-4b8f-a281-67c17637753b",
   "metadata": {},
   "source": [
    "# Assignment 2\n",
    "\n",
    "**1. Write a program to accept percentage from the user and display the grade according to the following criteria** \n",
    "| Marks | Grade |\n",
    "| --- | --- |\n",
    "| >90 | A |\n",
    "| >80 and <=90 | B |\n",
    "| >=60 and <=80 | C |\n",
    "| below 60 | D |\n"
   ]
  },
  {
   "cell_type": "code",
   "execution_count": 11,
   "id": "346f60f4-022c-4049-a996-e9666c942519",
   "metadata": {},
   "outputs": [
    {
     "name": "stdout",
     "output_type": "stream",
     "text": [
      "Please input your marks in percentage to find out your grades\n"
     ]
    },
    {
     "name": "stdin",
     "output_type": "stream",
     "text": [
      " 50\n"
     ]
    },
    {
     "name": "stdout",
     "output_type": "stream",
     "text": [
      "Grade D\n"
     ]
    }
   ],
   "source": [
    "print(\"Please input your marks in percentage to find out your grades\")\n",
    "a = int(input())\n",
    "\n",
    "if a > 90:\n",
    "    print(\"Grade A\")\n",
    "elif a > 80 and a <= 90:\n",
    "    print(\"Grade B\")\n",
    "elif a >= 60 and a <= 80:\n",
    "    print(\"Grade C\")\n",
    "else:\n",
    "    print(\"Grade D\")"
   ]
  },
  {
   "cell_type": "markdown",
   "id": "b2e50f95-67ef-4fd1-805a-6d98cccfdc34",
   "metadata": {},
   "source": [
    "**2. Write a program to accept the cost price of a bike and display the road tax to be paid according to the following criteria:**\n",
    "| Tax | Cost Price(in Rs) |\n",
    "| --- | --- |\n",
    "| 15% | >1,00,000 |\n",
    "| 10% | >50,000 and <=1,00,000 |\n",
    "| 5% | <=50,000 |"
   ]
  },
  {
   "cell_type": "code",
   "execution_count": 21,
   "id": "59c4d2f1-04b5-4c1b-bda2-4d1221ea58ef",
   "metadata": {},
   "outputs": [
    {
     "name": "stdout",
     "output_type": "stream",
     "text": [
      "Please enter the Cost Price of a bike to find out the road tax to be paid\n"
     ]
    },
    {
     "name": "stdin",
     "output_type": "stream",
     "text": [
      " 40000\n"
     ]
    },
    {
     "name": "stdout",
     "output_type": "stream",
     "text": [
      "Road tax to be paid by you will be 5% i.e.\n",
      "2000.0\n"
     ]
    }
   ],
   "source": [
    "print(\"Please enter the Cost Price of a bike to find out the road tax to be paid\")\n",
    "b = int(input())\n",
    "\n",
    "if b > 100000:\n",
    "    print(\"Road tax to be paid by you will be 15% i.e.\")\n",
    "    print((b*15)/100)\n",
    "elif b > 50000 and b <= 100000:\n",
    "    print(\"Road tax to be paid by you will be 10% i.e.\")\n",
    "    print((b*10)/100)\n",
    "else:\n",
    "    print(\"Road tax to be paid by you will be 5% i.e.\")\n",
    "    print((b*5)/100)"
   ]
  },
  {
   "cell_type": "markdown",
   "id": "8499327e-cb64-4e49-bdbc-0ae7cbdc6b28",
   "metadata": {},
   "source": [
    "**3. Accept any city from the user and display monuments of that city.**\n",
    "| City | Monuments |\n",
    "| --- | --- |\n",
    "| Delhi | Red Fort |\n",
    "| Agra | Taj Mahal |\n",
    "| Jaipur | Jal Mahal |"
   ]
  },
  {
   "cell_type": "code",
   "execution_count": 25,
   "id": "878290c8-c721-4e55-b859-09b7feb0e1d3",
   "metadata": {},
   "outputs": [
    {
     "name": "stdout",
     "output_type": "stream",
     "text": [
      "Select a city from Delhi, Agra and Jaipur to find out the monuments of that city\n"
     ]
    },
    {
     "name": "stdin",
     "output_type": "stream",
     "text": [
      " Agra\n"
     ]
    },
    {
     "name": "stdout",
     "output_type": "stream",
     "text": [
      "Taj Mahal\n"
     ]
    }
   ],
   "source": [
    "print(\"Select a city from Delhi, Agra and Jaipur to find out the monuments of that city\")\n",
    "city = str(input())\n",
    "\n",
    "if city == \"Delhi\":\n",
    "    print(\"Red Fort\")\n",
    "elif city == \"Agra\":\n",
    "    print(\"Taj Mahal\")\n",
    "elif city == \"Jaipur\":\n",
    "    print(\"Jal Mahal\")\n",
    "else:\n",
    "    print(\"Sorry! information about other cities is not available.\")\n",
    "    "
   ]
  },
  {
   "cell_type": "markdown",
   "id": "4187f316-2594-4bbe-9651-1eb4bedaa840",
   "metadata": {},
   "source": [
    "**4. Check how many times a given number can be divided by 3 before it is less than or equal to 10.**"
   ]
  },
  {
   "cell_type": "code",
   "execution_count": 14,
   "id": "361c16b8-5f4d-436a-8efc-083afa388b3b",
   "metadata": {},
   "outputs": [
    {
     "name": "stdin",
     "output_type": "stream",
     "text": [
      "Enter a number:  15\n"
     ]
    },
    {
     "name": "stdout",
     "output_type": "stream",
     "text": [
      "The number can be divided by 3 : 1 times before it is less than or equal to 10.\n"
     ]
    }
   ],
   "source": [
    "num = int(input(\"Enter a number: \"))\n",
    "\n",
    "count = 0\n",
    "while num > 10:\n",
    "    num /= 3\n",
    "    count += 1\n",
    "\n",
    "print(f\"The number can be divided by 3 : {count} times before it is less than or equal to 10.\")"
   ]
  },
  {
   "cell_type": "markdown",
   "id": "58d3635a-e3bd-4ddd-9bef-41c244002d17",
   "metadata": {},
   "source": [
    "**5. Why and when to use while loop in Python give a detailed description with example**\n",
    "<br>**Ans.** *A while loop in Python is used when you want to repeatedly execute a block of code as long as a given condition is true. The loop continues to run as long as the condition is true, and terminates when the condition becomes false.*\n",
    "\n",
    "*Here's an example to illustrate the use of a while loop in Python:*\n",
    "<br>*In this small code we are going to count upto 10 using a while loop* "
   ]
  },
  {
   "cell_type": "code",
   "execution_count": 2,
   "id": "3d799660-0480-4a40-81e2-9aa9a2908dd7",
   "metadata": {},
   "outputs": [
    {
     "name": "stdout",
     "output_type": "stream",
     "text": [
      "1\n",
      "2\n",
      "3\n",
      "4\n",
      "5\n",
      "6\n",
      "7\n",
      "8\n",
      "9\n",
      "10\n"
     ]
    }
   ],
   "source": [
    "count = 0\n",
    "\n",
    "while count < 10:\n",
    "    count = count + 1\n",
    "    print(count)  "
   ]
  },
  {
   "cell_type": "markdown",
   "id": "95b709fe-fcdf-4f00-ac34-55139f861d7f",
   "metadata": {},
   "source": [
    "**6. Use nested while loop to print 3 different patterns.**"
   ]
  },
  {
   "cell_type": "code",
   "execution_count": 9,
   "id": "880d374a-5074-44e2-90bc-b980fae17d9c",
   "metadata": {},
   "outputs": [
    {
     "name": "stdout",
     "output_type": "stream",
     "text": [
      "*******\n",
      "*******\n",
      "*******\n",
      "*******\n",
      "*******\n",
      "*******\n",
      "*******\n"
     ]
    }
   ],
   "source": [
    "count = 7\n",
    "i = 1\n",
    "\n",
    "while (i <= count):\n",
    "    j = 1\n",
    "    while(j <= count):\n",
    "        print('*', end='')\n",
    "        j = j + 1\n",
    "    print()\n",
    "    i = i + 1"
   ]
  },
  {
   "cell_type": "code",
   "execution_count": 10,
   "id": "3fac1c8e-dbc3-4b10-840a-5b0aa4c3b920",
   "metadata": {},
   "outputs": [
    {
     "name": "stdout",
     "output_type": "stream",
     "text": [
      "******\n",
      "*****\n",
      "****\n",
      "***\n",
      "**\n",
      "*\n",
      "\n"
     ]
    }
   ],
   "source": [
    "count = 7\n",
    "i = 1\n",
    "\n",
    "while (i <= count):\n",
    "    j = 1\n",
    "    while(j <= count):\n",
    "        if i<j:\n",
    "            print('*', end='')\n",
    "        j = j + 1\n",
    "    print()\n",
    "    i = i + 1"
   ]
  },
  {
   "cell_type": "code",
   "execution_count": 11,
   "id": "fb97ba08-f5f5-46e4-8e4d-079ed638eef1",
   "metadata": {},
   "outputs": [
    {
     "name": "stdout",
     "output_type": "stream",
     "text": [
      "\n",
      "*\n",
      "**\n",
      "***\n",
      "****\n",
      "*****\n",
      "******\n"
     ]
    }
   ],
   "source": [
    "count = 7\n",
    "i = 1\n",
    "\n",
    "while (i <= count):\n",
    "    j = 1\n",
    "    while(j <= count):\n",
    "        if i>j:\n",
    "            print('*', end='')\n",
    "        j = j + 1\n",
    "    print()\n",
    "    i = i + 1"
   ]
  },
  {
   "cell_type": "markdown",
   "id": "a8a6a1ea-d12f-42a3-a753-88f372be754d",
   "metadata": {},
   "source": [
    "**7. Reverse a while loop to display numbers from 10 to 1.**"
   ]
  },
  {
   "cell_type": "code",
   "execution_count": 6,
   "id": "eaaf31d5-375a-42ab-86cb-430c98ea7d0d",
   "metadata": {},
   "outputs": [
    {
     "name": "stdout",
     "output_type": "stream",
     "text": [
      "10\n",
      "9\n",
      "8\n",
      "7\n",
      "6\n",
      "5\n",
      "4\n",
      "3\n",
      "2\n",
      "1\n"
     ]
    }
   ],
   "source": [
    "i = 11\n",
    "while(i > 1):\n",
    "    i = i - 1\n",
    "    print(i)"
   ]
  },
  {
   "cell_type": "markdown",
   "id": "428e5e51-dfaf-46e7-a89a-f139c0a1c73f",
   "metadata": {},
   "source": [
    "**8. Reverse a while loop to display numbers from 10 to 1.**"
   ]
  },
  {
   "cell_type": "code",
   "execution_count": 1,
   "id": "f9b722e7-69ee-4117-9a73-5c543f64022d",
   "metadata": {},
   "outputs": [
    {
     "name": "stdout",
     "output_type": "stream",
     "text": [
      "10\n",
      "9\n",
      "8\n",
      "7\n",
      "6\n",
      "5\n",
      "4\n",
      "3\n",
      "2\n",
      "1\n"
     ]
    }
   ],
   "source": [
    "i = 11\n",
    "while(i >= 1):\n",
    "    i = i - 1\n",
    "    print(i)"
   ]
  },
  {
   "cell_type": "code",
   "execution_count": null,
   "id": "f5be0612-dd9a-40b7-a0e5-c3ae5eec613a",
   "metadata": {},
   "outputs": [],
   "source": []
  }
 ],
 "metadata": {
  "kernelspec": {
   "display_name": "Python 3 (ipykernel)",
   "language": "python",
   "name": "python3"
  },
  "language_info": {
   "codemirror_mode": {
    "name": "ipython",
    "version": 3
   },
   "file_extension": ".py",
   "mimetype": "text/x-python",
   "name": "python",
   "nbconvert_exporter": "python",
   "pygments_lexer": "ipython3",
   "version": "3.10.6"
  }
 },
 "nbformat": 4,
 "nbformat_minor": 5
}
