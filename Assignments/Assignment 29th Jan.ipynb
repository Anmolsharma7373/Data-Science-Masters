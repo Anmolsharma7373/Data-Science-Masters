{
 "cells": [
  {
   "cell_type": "markdown",
   "id": "0e94e21e-4722-4507-92dd-05b19b830f8d",
   "metadata": {},
   "source": [
    "# Assignment 1\n",
    "**1. Who developed Python Programming Language?**                                                                                   \n",
    "**Ans.**  *Guido van Rossum*\n",
    "\n",
    "**2. Which type of Programming does Python support?**\n",
    "<br>**Ans.** *Python supports object oriented, structured and functional programming.* \n",
    "\n",
    "**3. Is pthon case sensitive when dealing with identifiers?**\n",
    "<br>**Ans.** *Yes*\n",
    "\n",
    "**4. What is the correct extension of the Python file?**\n",
    "<br>**Ans.** *.py*\n",
    "\n",
    "**5. Is Python code compiled or interpreted?**\n",
    "<br>**Ans.** *Python code is first compiled and then interpreted as when we run the code the code gets converted into a byte code internally and then this byte code is converted into output by Python Virtual Machine.*\n",
    "\n",
    "**6. Name a few blocks of code used to define in python language?**\n",
    "<br>**Ans.** *In Python, a few blocks of code used to define are:*\n",
    "<br>*1. Functions: defined using the \"def\" keyword, for example: \"def function_name(arguments):\"*\n",
    "<br>*2. Classes: defined using the \"class\" keyword, for example: \"class ClassName(object):\"*\n",
    "<br>*3. Loops: for loops and while loops are used to iterate over a sequence of elements or until a certain condition is met.*\n",
    "<br>*4. Conditionals: if-else statements are used to execute code based on whether a certain condition is met. For example: \"if x > 10:\"*\n",
    "<br>*These are just a few examples, and there are many more blocks of code that can be used in Python to define various elements in a program.*\n",
    "\n",
    "**7. State a character used to give single-line comment in Python?**\n",
    "<br>**Ans.** #\n"
   ]
  },
  {
   "cell_type": "markdown",
   "id": "046d5d26-c22a-4a88-aabc-c87788cb6d31",
   "metadata": {},
   "source": [
    "**8. Mention functions which can help us to find the version of python that we are currently working on?**"
   ]
  },
  {
   "cell_type": "code",
   "execution_count": 1,
   "id": "3d5169e3-9551-4917-9549-fb552a095a33",
   "metadata": {},
   "outputs": [
    {
     "name": "stdout",
     "output_type": "stream",
     "text": [
      "3.10.6 | packaged by conda-forge | (main, Aug 22 2022, 20:35:26) [GCC 10.4.0]\n"
     ]
    }
   ],
   "source": [
    "import sys\n",
    "\n",
    "print(sys.version)"
   ]
  },
  {
   "cell_type": "markdown",
   "id": "be8e35b3-b40b-4e6e-bcba-02b8a365e0e1",
   "metadata": {},
   "source": [
    "**9. Python supports the creation of anonymous functions at runtime, using a construct called _________?**\n",
    "<br>**Ans.** *Lambda*\n",
    "\n",
    "**10. What does Pip stand for python?**\n",
    "<br>**Ans.** *Preferred Installer Program*\n",
    "\n",
    "**11. Mention a few built-in functions in python?**\n",
    "<br>**Ans.** *Following are the rew built in functions in Python:*\n",
    "<br>*1)print()*\n",
    "<br>*2)type()*\n",
    "<br>*3)abs()*\n",
    "<br>*4)input()*\n",
    "<br>*5)help()*\n",
    "\n",
    "**12. What is the maximum possible length of an identifier in Python?**\n",
    "<br>**Ans.** *79 characters*\n",
    "\n",
    "**13. What are the benefits of using Python?**\n",
    "<br>**Ans.** *Following are some of the benefits of using Python:* \n",
    "\t<br>*1) Python is easy to learn, write and understand.*\n",
    "\t<br>*2) Python is dynamically typed which means it automatically assigns the datatype during execution.*\n",
    "\t<br>*3) Python is very productive language, because of its simplicity developers can focus on solving the problem rather focusing on understanding the syntax or behaviour of the programming language.*\n",
    "    <br>*4) Python comes under OSI approved open source license. This makes it easy to use and distribute. We can download the source code modify it and even can develop our own version of Python.*\n",
    "    <br>*5) Under standard library of Python we can find almost all the functions we may need for our tasks, it also provides access to other external libraries using Python Package Manager(pip).*\n",
    "\n",
    "**14. How is memory managed in Python?**\n",
    "<br>**Ans.** *In Python, memory management is done automatically using a garbage collector, which recycles memory that is no longer being used by the program. The Python interpreter keeps track of all the objects in the program and frees the memory occupied by the objects that are no longer referenced.*\n",
    "\n",
    "*Additionally, Python uses reference counting for memory management. Each object has a reference count that keeps track of the number of references to the object. When an object's reference count drops to zero, the memory occupied by the object is automatically freed by the garbage collector.*\n",
    "\n",
    "*This automatic memory management in Python simplifies the process of memory management and reduces the risk of memory leaks and other related issues, but it also means that the programmer has less control over the exact management of memory in the program.*\n",
    "\n",
    "**15. How to install python on Windows and set path variables?**\n",
    "<br>**Ans.** *Following are the steps to install Python and setting up path variable on windows:*\n",
    "<br>*1)Open a browser and go to Python.org and download the windows installer.*\n",
    "<br>*2)Double click on the downloaded file and install Python for all users, and ensure that Python is added to your path. Click on Install now to begin.*\n",
    "<br>*3)After the installation is complete, click on close to end the installation.*\n",
    "\n",
    "**16. Is Indentation required in python?**\n",
    "<br>**Ans.** *Indentation is very important in Python unlike other programming languages where Indentation is used for the readability only whereas Python uses Indentation to recognize a block of code.*"
   ]
  }
 ],
 "metadata": {
  "kernelspec": {
   "display_name": "Python 3 (ipykernel)",
   "language": "python",
   "name": "python3"
  },
  "language_info": {
   "codemirror_mode": {
    "name": "ipython",
    "version": 3
   },
   "file_extension": ".py",
   "mimetype": "text/x-python",
   "name": "python",
   "nbconvert_exporter": "python",
   "pygments_lexer": "ipython3",
   "version": "3.10.6"
  }
 },
 "nbformat": 4,
 "nbformat_minor": 5
}
