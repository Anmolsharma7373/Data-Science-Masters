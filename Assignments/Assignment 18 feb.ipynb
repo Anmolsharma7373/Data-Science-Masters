{
 "cells": [
  {
   "cell_type": "markdown",
   "id": "3fe838c4-ad12-48db-8195-4fcc3d783595",
   "metadata": {},
   "source": [
    "**Q1. What is an API? Give an example, where an API is used in real life.**"
   ]
  },
  {
   "cell_type": "markdown",
   "id": "8f983e59-e3d8-43d0-b474-56bc1716e7bb",
   "metadata": {},
   "source": [
    "**Ans.** API or Application Programming interface is a set of rules that help homogeneous and heterogeneous applications to communicate with each other. It acts as a intermediary for data transfer between the two applications.\n",
    "\n",
    "There are many real life examples of API for example when we log in to our google or facebook account the website uses different API's to authenticate that login, another example is UPI payments through various applications like google-pay, amazon-pay, paytm, etc these applications also uses API's to authenticate the transactions."
   ]
  },
  {
   "cell_type": "markdown",
   "id": "34decc39-ec1d-4981-9bce-464d6fcada83",
   "metadata": {},
   "source": [
    "**Q2. Give advantages and disadvantages of using API.**\n"
   ]
  },
  {
   "cell_type": "markdown",
   "id": "7b3246ba-2d80-46cc-b9c7-d26c439db390",
   "metadata": {},
   "source": [
    "**Ans.** APIs have several advantages and disadvantages. Here are some of the most important ones:\n",
    "\n",
    "**Advantages:**\n",
    "\n",
    "1) Increased Interoperability: API solutions enable different software systems to communicate with each other, regardless of their programming language or platform. This enhances the interoperability between systems, allowing for the exchange of data and functionality.\n",
    "2) Modularity: APIs bring a new level of modularity to applications. They allow developers to leverage the expertise of other applications. When an organization develops an application, they no longer need to reinvent the wheel when it comes to things like authentication, communication, payment processing, and maps.\n",
    "3) Strategic Value: APIs provide strategic value such as additional exposure for your brand and increased revenue3.\n",
    "\n",
    "**Disadvantages:**\n",
    "\n",
    "1) Security Risks: As a single point of entry, an API is a gateway and can become a hacker’s primary target. Once the API is compromised, all other applications and systems become vulnerable3. APIs are vulnerable to man-in-the-middle attacks, CSRF attacks, XSS attacks, SQL injection, and DDoS attacks.\n",
    "2) Maintenance Costs: APIs require maintenance and updates to ensure they continue to function properly. This can add additional costs to a business."
   ]
  },
  {
   "cell_type": "markdown",
   "id": "0fb403b1-82d0-4311-9dc8-0f7bb496c866",
   "metadata": {},
   "source": [
    "**Q3. What is a Web API? Differentiate between API and Web API.**\n"
   ]
  },
  {
   "cell_type": "markdown",
   "id": "2341abcb-14b6-43c0-a873-59ff37d58910",
   "metadata": {},
   "source": [
    "**Ans.** A web API  is a type of API which uses HTTP to request data from a server and receive a response. It is an application programming interface for the Web. A Web API can extend the functionality of a web browser or a web server.\n",
    "\n",
    "The main difference between an API and a Web API is that an API can be used for any style of communication between applications, while a Web API specifically uses the HTTP protocol to communicate between applications."
   ]
  },
  {
   "cell_type": "markdown",
   "id": "0d96a1f2-713e-4bf6-bd96-750845689f9d",
   "metadata": {},
   "source": [
    "**Q4. Explain REST and SOAP Architecture. Mention shortcomings of SOAP.**\n"
   ]
  },
  {
   "cell_type": "markdown",
   "id": "0fe57ef7-71fe-46c0-97ff-d84bca522ce8",
   "metadata": {},
   "source": [
    "**Ans.** REST (Representational State Transfer) is an architectural style for building distributed systems based on hypermedia. It was introduced by Roy Fielding in his doctoral dissertation in 20001. REST is not a standard or protocol, but rather a set of architectural principles for designing web services. RESTful web services use HTTP methods to map CRUD (create, read, update, delete) operations to HTTP methods (POST, GET, PUT, DELETE)\n",
    "\n",
    "SOAP (Simple Object Access Protocol) is a messaging protocol for exchanging structured data between applications. It uses XML as its message format and relies on application layer protocols, such as HTTP and SMTP, for message negotiation and transmission3. SOAP is a standard defined by the World Wide Web Consortium (W3C)\n",
    "\n",
    "**Some of the shortcomings of SOAP include:**\n",
    "\n",
    "a) Limited data format: SOAP only supports XML data format, whereas other lightweight formats such as JSON are not supported.\n",
    "\n",
    "b) Verbosity: SOAP messages can be quite large due to the use of XML, which can result in slower processing times.\n",
    "\n",
    "c) Complexity: SOAP can be more complex to implement and use compared to other web service architectures such as REST"
   ]
  },
  {
   "cell_type": "markdown",
   "id": "2c4085f6-ca36-469b-98c5-81f3e5aa620d",
   "metadata": {},
   "source": [
    "**Q5. Differentiate between REST and SOAP.**"
   ]
  },
  {
   "cell_type": "markdown",
   "id": "ee0b5c2a-86b1-4033-85a7-4f05b08576d4",
   "metadata": {},
   "source": [
    "**Ans.** REST and SOAP are two different architectures for building web services. Here are some key differences between them:\n",
    "\n",
    "a) Data format: REST supports multiple data formats, including XML, JSON, and plain text, while SOAP only supports XML.\n",
    "\n",
    "b) Protocol: REST can use any protocol that supports the transfer of data over a network, while SOAP relies on application layer protocols such as HTTP and SMTP.\n",
    "\n",
    "c) Verbosity: REST messages are generally smaller and less verbose than SOAP messages, which can result in faster processing times.\n",
    "\n",
    "d) Flexibility: REST is more flexible than SOAP, as it allows developers to define their own methods and resources, while SOAP has a fixed set of rules and methods.\n",
    "\n",
    "In summary, REST and SOAP are two different architectures for building web services, each with its own advantages and disadvantages. REST is generally considered to be more flexible and lightweight, while SOAP is more rigid and verbose. The choice between the two depends on the specific needs of the application"
   ]
  },
  {
   "cell_type": "code",
   "execution_count": null,
   "id": "f0237ad3-c432-4f1b-b20f-35bdb846f6aa",
   "metadata": {},
   "outputs": [],
   "source": []
  }
 ],
 "metadata": {
  "kernelspec": {
   "display_name": "Python 3 (ipykernel)",
   "language": "python",
   "name": "python3"
  },
  "language_info": {
   "codemirror_mode": {
    "name": "ipython",
    "version": 3
   },
   "file_extension": ".py",
   "mimetype": "text/x-python",
   "name": "python",
   "nbconvert_exporter": "python",
   "pygments_lexer": "ipython3",
   "version": "3.10.8"
  }
 },
 "nbformat": 4,
 "nbformat_minor": 5
}
