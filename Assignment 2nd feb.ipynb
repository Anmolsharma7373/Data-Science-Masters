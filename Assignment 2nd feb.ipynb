{
 "cells": [
  {
   "cell_type": "markdown",
   "id": "9b29c5f8-54f8-45fc-86dd-4fc4fe2b48aa",
   "metadata": {},
   "source": [
    "**Q1. Explain with an example each when to use a for loop and a while loop.**"
   ]
  },
  {
   "cell_type": "markdown",
   "id": "9fe584e8-1939-445b-b121-67dce95b2cda",
   "metadata": {},
   "source": [
    "Ans. A for loop is used when we have to iterate over an iterable where as while loop is used when we have to iterate till a certain condition is true. Examples for the same are:"
   ]
  },
  {
   "cell_type": "code",
   "execution_count": 2,
   "id": "0909b2fe-69ab-4c81-8948-5a047f0db440",
   "metadata": {},
   "outputs": [
    {
     "name": "stdout",
     "output_type": "stream",
     "text": [
      "Sum of items of the list are 45\n"
     ]
    }
   ],
   "source": [
    "# For Loop:\n",
    "\n",
    "l = [1,2,3,4,5,6,7,8,9]\n",
    "sum_of_items = 0\n",
    "\n",
    "for i in range(len(l)):\n",
    "    sum_of_items = sum_of_items + l[i]\n",
    "print(\"Sum of items of the list are\", sum_of_items)\n",
    "    "
   ]
  },
  {
   "cell_type": "code",
   "execution_count": 8,
   "id": "79ef2aa4-074d-42fe-8134-37d240e7ed4b",
   "metadata": {},
   "outputs": [
    {
     "name": "stdout",
     "output_type": "stream",
     "text": [
      "Sum of items of the list are 45\n"
     ]
    }
   ],
   "source": [
    "# While Loop:\n",
    "\n",
    "l1 = [1,2,3,4,5,6,7,8,9] \n",
    "sum_list = 0\n",
    "counter = 1\n",
    "\n",
    "while counter <= len(l1) :\n",
    "    sum_list = sum_list + l1[counter-1]\n",
    "    counter = counter + 1\n",
    "print(\"Sum of items of the list are\", sum_list)\n",
    "    "
   ]
  },
  {
   "cell_type": "markdown",
   "id": "6913a334-643d-4c99-b5d0-6b658df5b530",
   "metadata": {},
   "source": [
    "**Q2. Write a python program to print the sum and product of the first 10 natural numbers using for and while loop.**"
   ]
  },
  {
   "cell_type": "code",
   "execution_count": 20,
   "id": "98af3c61-9acb-4b11-b015-c62843188b8c",
   "metadata": {},
   "outputs": [
    {
     "name": "stdout",
     "output_type": "stream",
     "text": [
      "Sum of Numbers 55\n",
      "Product of numbers 3628800\n"
     ]
    }
   ],
   "source": [
    "# Program to print the sum and Product of First 10 natural numbers using for loop:\n",
    "\n",
    "res_sum = 0\n",
    "res_prod = 1\n",
    "for i in range(1,11):\n",
    "    res_sum += i\n",
    "    res_prod *= i\n",
    "print(\"Sum of Numbers\",res_sum)\n",
    "print(\"Product of numbers\",res_prod)"
   ]
  },
  {
   "cell_type": "code",
   "execution_count": 22,
   "id": "bb02bbc7-cc03-4cb1-8b42-951e59ebce02",
   "metadata": {},
   "outputs": [
    {
     "name": "stdout",
     "output_type": "stream",
     "text": [
      "Sum of Numbers 55\n",
      "Product of numbers 3628800\n"
     ]
    }
   ],
   "source": [
    "# program to print the Sum and Product of first 10 natural numbers using while loop:\n",
    "\n",
    "result_sum = 0\n",
    "result_prod = 1\n",
    "counter = 1\n",
    "while counter <= 10 :\n",
    "    result_sum = result_sum + counter\n",
    "    result_prod = result_prod * counter\n",
    "    counter = counter + 1\n",
    "print(\"Sum of Numbers\",result_sum)\n",
    "print(\"Product of numbers\",result_prod)"
   ]
  },
  {
   "cell_type": "markdown",
   "id": "81187152-07a2-47d1-bab2-26ba4232dde5",
   "metadata": {},
   "source": [
    "**Q3. Create a python program to compute the electricity bill for a household. The per-charges in rupees are as follows: For the first 100 units, the user wil be charged Rs. 4.5 per unit, for the next 100 units, the user will be charged Rs. 6 per unit, and for the next 100 units, the user will be charged Rs. 10 per unit, After 300 units and above the user will be charged Rs. 20 per unit. You are required to take the units of electricity consumed in a month from the user as input. Your program must pass this test case: when the unit of electricity consumed by the user in a month is 310, the total electricity bill should be 2250.**"
   ]
  },
  {
   "cell_type": "code",
   "execution_count": 2,
   "id": "0d5ebfca-fdf1-4163-95de-1894cc52040c",
   "metadata": {},
   "outputs": [
    {
     "name": "stdin",
     "output_type": "stream",
     "text": [
      "Enter the units consumed 310\n"
     ]
    },
    {
     "name": "stdout",
     "output_type": "stream",
     "text": [
      "Your Electricity bill is Rs. 2250.0\n"
     ]
    }
   ],
   "source": [
    "# Program to compute the electricity bill for a household.\n",
    "\n",
    "units = int(input(\"Enter the units consumed\"))\n",
    "result = 0\n",
    "\n",
    "if (units <= 100):\n",
    "    result = units * 4.5\n",
    "  #  print(result_1)\n",
    "elif (units>100 and units <= 200):\n",
    "    result = (100 * 4.5) + ((units - 100) * 6)\n",
    "  #  print(result_2)\n",
    "elif (units>200 and units <= 300):\n",
    "    result = (100 * 4.5) + (100 * 6) + ((units - 200) * 10)\n",
    "  #  print(result_3)\n",
    "else:\n",
    "    result = (100 * 4.5) + (100 * 6) + (100 * 10) + (units - 300 ) * 20\n",
    " #   print(result_4)\n",
    "            \n",
    "print(\"Your Electricity bill is Rs.\", result)\n",
    "    "
   ]
  },
  {
   "cell_type": "markdown",
   "id": "c57ca6db-35eb-4ca3-a002-0fdb516615cd",
   "metadata": {},
   "source": [
    "**Q4. Create a list of numbers from 1 to 100. Use for loop and while loop to calculate the cube of each number and if the cube of that number is dividible by 4 or 5 then append that number in a list and print that list.**"
   ]
  },
  {
   "cell_type": "code",
   "execution_count": 24,
   "id": "ad182077-fa7a-4f85-a8a5-844ca6d8801a",
   "metadata": {},
   "outputs": [
    {
     "name": "stdout",
     "output_type": "stream",
     "text": [
      "[0, 8, 64, 125, 216, 512, 1000, 1728, 2744, 3375, 4096, 5832, 8000, 10648, 13824, 15625, 17576, 21952, 27000, 32768, 39304, 42875, 46656, 54872, 64000, 74088, 85184, 91125, 97336, 110592, 125000, 140608, 157464, 166375, 175616, 195112, 216000, 238328, 262144, 274625, 287496, 314432, 343000, 373248, 405224, 421875, 438976, 474552, 512000, 551368, 592704, 614125, 636056, 681472, 729000, 778688, 830584, 857375, 884736, 941192]\n"
     ]
    }
   ],
   "source": [
    "# Using For loop:\n",
    "\n",
    "l_old = list(range(1,101))\n",
    "l_new = []\n",
    "\n",
    "for i in range(len(l_old)):\n",
    "    if (i**3)%4 == 0 or (i**3)%5 == 0 :\n",
    "        l_new.append(i**3)\n",
    "print(l_new)"
   ]
  },
  {
   "cell_type": "code",
   "execution_count": 13,
   "id": "b47c04aa-72d5-4180-a4cb-4f5af320d279",
   "metadata": {},
   "outputs": [
    {
     "name": "stdout",
     "output_type": "stream",
     "text": [
      "[8, 64, 125, 216, 512, 1000, 1728, 2744, 3375, 4096, 5832, 8000, 10648, 13824, 15625, 17576, 21952, 27000, 32768, 39304, 42875, 46656, 54872, 64000, 74088, 85184, 91125, 97336, 110592, 125000, 140608, 157464, 166375, 175616, 195112, 216000, 238328, 262144, 274625, 287496, 314432, 343000, 373248, 405224, 421875, 438976, 474552, 512000, 551368, 592704, 614125, 636056, 681472, 729000, 778688, 830584, 857375, 884736, 941192, 1000000]\n"
     ]
    }
   ],
   "source": [
    "# Using while loop:\n",
    "\n",
    "l_old1 = list(range(1,101))\n",
    "l_new1 = []\n",
    "\n",
    "counter = 1\n",
    "while counter <= len(l_old1) :\n",
    "    if ((l_old1[counter-1])**3)%4 == 0 or ((l_old1[counter-1])**3)%5 == 0 :\n",
    "        l_new1.append((l_old1[counter-1])**3)\n",
    "    counter = counter + 1\n",
    "print(l_new1)"
   ]
  },
  {
   "cell_type": "markdown",
   "id": "696ed253-bf4f-4ddc-9961-acc886620717",
   "metadata": {},
   "source": [
    "**Q5. Write a program to filter count vowels in the below-given string. string = \"I want ot become a data scientist\"**"
   ]
  },
  {
   "cell_type": "code",
   "execution_count": 19,
   "id": "25538cf0-11d4-4920-b002-5d7337f47660",
   "metadata": {},
   "outputs": [
    {
     "data": {
      "text/plain": [
       "12"
      ]
     },
     "execution_count": 19,
     "metadata": {},
     "output_type": "execute_result"
    }
   ],
   "source": [
    "#program to count vowels\n",
    "\n",
    "result = 0\n",
    "vowels = \"aeiou\"\n",
    "\n",
    "string = \"i want to become a data scientist\"\n",
    "\n",
    "for char in string:\n",
    "    if char in vowels :\n",
    "        result = result + 1\n",
    "result"
   ]
  }
 ],
 "metadata": {
  "kernelspec": {
   "display_name": "Python 3 (ipykernel)",
   "language": "python",
   "name": "python3"
  },
  "language_info": {
   "codemirror_mode": {
    "name": "ipython",
    "version": 3
   },
   "file_extension": ".py",
   "mimetype": "text/x-python",
   "name": "python",
   "nbconvert_exporter": "python",
   "pygments_lexer": "ipython3",
   "version": "3.10.6"
  }
 },
 "nbformat": 4,
 "nbformat_minor": 5
}
